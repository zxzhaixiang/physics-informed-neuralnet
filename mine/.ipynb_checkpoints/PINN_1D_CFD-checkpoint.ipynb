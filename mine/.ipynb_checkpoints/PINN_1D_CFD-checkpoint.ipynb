{
 "cells": [
  {
   "cell_type": "code",
   "execution_count": 1,
   "metadata": {},
   "outputs": [
    {
     "name": "stderr",
     "output_type": "stream",
     "text": [
      "/home/xiang/miniconda3/envs/ML/lib/python3.6/site-packages/h5py/__init__.py:36: FutureWarning: Conversion of the second argument of issubdtype from `float` to `np.floating` is deprecated. In future, it will be treated as `np.float64 == np.dtype(float).type`.\n",
      "  from ._conv import register_converters as _register_converters\n"
     ]
    }
   ],
   "source": [
    "import sys\n",
    "sys.path.insert(0, '../Utilities/')\n",
    "\n",
    "import tensorflow as tf\n",
    "import numpy as np\n",
    "import matplotlib.pyplot as plt\n",
    "import scipy.io\n",
    "from scipy.interpolate import griddata\n",
    "import time\n",
    "from pyDOE import lhs\n",
    "\n",
    "\n",
    "np.random.seed(1234)\n",
    "tf.set_random_seed(1234)"
   ]
  },
  {
   "cell_type": "code",
   "execution_count": 166,
   "metadata": {},
   "outputs": [],
   "source": [
    "class PhysicsInformedNN:\n",
    "    # Initialize the class\n",
    "    def __init__(self, X_u, u, X_f, layers, lb, ub, nu):\n",
    "        #X_u, u: where to enforce value of u\n",
    "        #X_f: where to enforce physics\n",
    "        \n",
    "        self.lb = lb\n",
    "        self.ub = ub\n",
    "    \n",
    "        self.x_u = X_u[:,0:1]\n",
    "        self.t_u = X_u[:,1:2]\n",
    "        \n",
    "        self.x_f = X_f[:,0:1]\n",
    "        self.t_f = X_f[:,1:2]\n",
    "        \n",
    "        self.u = u\n",
    "        \n",
    "        self.layers = layers\n",
    "        self.nu = nu\n",
    "        \n",
    "        # Initialize NNs\n",
    "        self.weights, self.biases = self.initialize_NN(layers)\n",
    "        \n",
    "        # tf placeholders and graph\n",
    "        self.sess = tf.Session(config=tf.ConfigProto(allow_soft_placement=True,\n",
    "                                                     log_device_placement=True))\n",
    "        \n",
    "        self.x_u_tf = tf.placeholder(tf.float32, shape=[None, self.x_u.shape[1]])\n",
    "        self.t_u_tf = tf.placeholder(tf.float32, shape=[None, self.t_u.shape[1]])        \n",
    "        self.u_tf = tf.placeholder(tf.float32, shape=[None, self.u.shape[1]])\n",
    "        \n",
    "        self.x_f_tf = tf.placeholder(tf.float32, shape=[None, self.x_f.shape[1]])\n",
    "        self.t_f_tf = tf.placeholder(tf.float32, shape=[None, self.t_f.shape[1]])        \n",
    "\n",
    "        self.u_pred = self.net_u(self.x_u_tf, self.t_u_tf) \n",
    "        self.f_pred = self.net_f(self.x_f_tf, self.t_f_tf)         \n",
    "        \n",
    "        self.loss_u = tf.reduce_mean(tf.square(self.u_tf - self.u_pred))\n",
    "        self.loss_f = tf.reduce_mean(tf.square(self.f_pred))\n",
    "        self.loss = 1.*self.loss_u + 1.*self.loss_f               \n",
    "                \n",
    "        self.optimizer = tf.contrib.opt.ScipyOptimizerInterface(self.loss, \n",
    "                                                                method = 'L-BFGS-B', \n",
    "                                                                options = {'maxiter': 50000,\n",
    "                                                                           'maxfun': 50000,\n",
    "                                                                           'maxcor': 100,\n",
    "                                                                           'maxls': 100,\n",
    "                                                                           'ftol' : 1 * np.finfo(float).eps})\n",
    "        \n",
    "        init = tf.global_variables_initializer()\n",
    "        self.sess.run(init)\n",
    "\n",
    "    def initialize_NN(self, layers):        \n",
    "        weights = []\n",
    "        biases = []\n",
    "        num_layers = len(layers) \n",
    "        for l in range(0,num_layers-1):\n",
    "            W = self.xavier_init(size=[layers[l], layers[l+1]])\n",
    "            b = tf.Variable(tf.zeros([1,layers[l+1]], dtype=tf.float32), dtype=tf.float32)\n",
    "            weights.append(W)\n",
    "            biases.append(b)        \n",
    "        return weights, biases\n",
    "        \n",
    "    def xavier_init(self, size):\n",
    "        in_dim = size[0]\n",
    "        out_dim = size[1]        \n",
    "        xavier_stddev = np.sqrt(2/(in_dim + out_dim))\n",
    "        return tf.Variable(tf.truncated_normal([in_dim, out_dim], stddev=xavier_stddev), dtype=tf.float32)\n",
    "    \n",
    "    def neural_net(self, X, weights, biases):\n",
    "        num_layers = len(weights) + 1\n",
    "        \n",
    "        H = 2.0*(X - self.lb)/(self.ub - self.lb) - 1.0\n",
    "        for l in range(0,num_layers-2):\n",
    "            W = weights[l]\n",
    "            b = biases[l]\n",
    "            \n",
    "            #if (l%2==0):\n",
    "            #    H = tf.tanh(tf.add(tf.matmul(H, W), b))\n",
    "            #else:\n",
    "            #    H = tf.nn.leaky_relu(tf.add(tf.matmul(H, W), b))\n",
    "\n",
    "            H = tf.tanh(tf.add(tf.matmul(H, W), b))\n",
    "        W = weights[-1]\n",
    "        b = biases[-1]\n",
    "        Y = tf.add(tf.matmul(H, W), b)\n",
    "        Y = tf.sigmoid(Y)\n",
    "        return Y\n",
    "            \n",
    "    def net_u(self, x, t):\n",
    "        u = self.neural_net(tf.concat([x,t],1), self.weights, self.biases)\n",
    "        return u\n",
    "    \n",
    "    def net_f(self, x,t):\n",
    "        u = self.net_u(x,t)\n",
    "        u_t = tf.gradients(u, t)[0]\n",
    "        u_x = tf.gradients(u, x)[0]\n",
    "        u_xx = tf.gradients(u_x, x)[0]\n",
    "        #f = u_t + u*u_x - self.nu*u_xx #burger problem\n",
    "        #f = u_t - 0.2*u_xx             #1D diffusion problem \n",
    "        f = u_t - u_x                  #1D wave propagating left\n",
    "        #f = u_t - u_x - 0.01*u_xx       #1D wave propagation with diffusion\n",
    "        #f = u_t + u_x                  #1D wave propagating right\n",
    "        #f = u_t - (0.1+u)*u_x - self.nu*u_xx   #1D burger problem with diffusion\n",
    "        return f\n",
    "    \n",
    "    def callback(self, loss):\n",
    "        print('Loss:', loss)\n",
    "        \n",
    "    def train(self):\n",
    "        \n",
    "        tf_dict = {self.x_u_tf: self.x_u, self.t_u_tf: self.t_u, self.u_tf: self.u,\n",
    "                   self.x_f_tf: self.x_f, self.t_f_tf: self.t_f}\n",
    "                                                                                                                          \n",
    "        self.optimizer.minimize(self.sess, \n",
    "                                feed_dict = tf_dict,         \n",
    "                                fetches = [self.loss], \n",
    "                                loss_callback = self.callback)        \n",
    "                                    \n",
    "    \n",
    "    def predict(self, X_star):\n",
    "                \n",
    "        u_star = self.sess.run(self.u_pred, {self.x_u_tf: X_star[:,0:1], self.t_u_tf: X_star[:,1:2]})  \n",
    "        f_star = self.sess.run(self.f_pred, {self.x_f_tf: X_star[:,0:1], self.t_f_tf: X_star[:,1:2]})\n",
    "               \n",
    "        return u_star, f_star"
   ]
  },
  {
   "cell_type": "markdown",
   "metadata": {},
   "source": [
    "## Training Neural Net with Initial & Boundary Condition and Physics Laws"
   ]
  },
  {
   "cell_type": "code",
   "execution_count": 178,
   "metadata": {},
   "outputs": [],
   "source": [
    "nu = 0.01/np.pi\n",
    "noise = 0.0        \n",
    "\n",
    "N_u = 1000\n",
    "N_f = 1000\n",
    "layers = [2, 20, 20, 20, 20, 1]\n",
    "#layers = [2, 20, 20, 20, 20, 20, 20, 20, 20, 20,20,20,20,1]\n",
    "#layers = [2, 4, 8, 16, 32, 64, 32, 16, 8, 4, 2, 1]\n",
    "\n",
    "data = scipy.io.loadmat('../appendix/Data/burgers_shock.mat')\n",
    "\n",
    "t = data['t'].flatten()[:,None]\n",
    "x = data['x'].flatten()[:,None]\n",
    "Exact = np.real(data['usol']).T\n",
    "\n",
    "X, T = np.meshgrid(x,t)\n",
    "\n",
    "X_star = np.hstack((X.flatten()[:,None], T.flatten()[:,None]))\n",
    "u_star = Exact.flatten()[:,None]              \n",
    "\n",
    "# Doman bounds\n",
    "lb = X_star.min(0)\n",
    "ub = X_star.max(0)    \n",
    "\n",
    "xx1 = np.hstack((X[0:1,:].T, T[0:1,:].T)) #initial condition t=0\n",
    "#uu1 = Exact[0:1,:].T\n",
    "#uu1 = np.exp(-100*xx1[:,0:1]*xx1[:,0:1])\n",
    "#uu1 = np.exp(-10*xx1[:,0:1]*xx1[:,0:1])*np.sin(xx1[:,0:1]*np.pi)\n",
    "uu1 = np.heaviside(10*xx1[:,0:1],0)\n",
    "\n",
    "xx2 = np.hstack((X[:,0:1], T[:,0:1])) #boundary condition at x = -1\n",
    "uu2 = Exact[:,0:1]\n",
    "\n",
    "xx3 = np.hstack((X[:,-1:], T[:,-1:])) #boundary condition at x = 1\n",
    "uu3 = Exact[:,-1:]\n",
    "\n",
    "#X_u_train = np.vstack([xx1, xx2, xx3])\n",
    "#u_train = np.vstack([uu1, uu2, uu3])\n",
    "X_u_train = np.vstack([xx1])\n",
    "u_train = np.vstack([uu1])"
   ]
  },
  {
   "cell_type": "code",
   "execution_count": 179,
   "metadata": {},
   "outputs": [],
   "source": [
    "X_f_train = lb + (ub-lb)*lhs(2, N_f)\n",
    "X_f_train = np.vstack((X_f_train, X_u_train))\n"
   ]
  },
  {
   "cell_type": "code",
   "execution_count": 180,
   "metadata": {},
   "outputs": [],
   "source": [
    "# select partial region to reinforce physics.\n",
    "#X_f_train = np.array([X_f_train[i] for i in range(X_f_train.shape[0]) if ((X_f_train[i,1]<0.5) or (np.abs(X_f_train[i,0])<0.2))])\n",
    "#X_f_train = np.array([X_f_train[i] for i in range(X_f_train.shape[0]) if (X_f_train[i,1]<0.2) or ((X_f_train[i,1]>0.7) and (X_f_train[i,1]<0.9))])"
   ]
  },
  {
   "cell_type": "code",
   "execution_count": 181,
   "metadata": {},
   "outputs": [],
   "source": [
    "#idx = np.random.choice(X_u_train.shape[0], N_u, replace=False)\n",
    "#X_u_train = X_u_train[idx, :]\n",
    "#u_train = u_train[idx,:]"
   ]
  },
  {
   "cell_type": "code",
   "execution_count": 182,
   "metadata": {},
   "outputs": [
    {
     "data": {
      "text/plain": [
       "[<matplotlib.lines.Line2D at 0x7f1b444fd978>]"
      ]
     },
     "execution_count": 182,
     "metadata": {},
     "output_type": "execute_result"
    },
    {
     "data": {
      "image/png": "[encoded data removed]",
      "text/plain": [
       "<matplotlib.figure.Figure at 0x7f1b4449f5c0>"
      ]
     },
     "metadata": {},
     "output_type": "display_data"
    }
   ],
   "source": [
    "plt.figure(figsize=(12,8))\n",
    "plt.plot(X_f_train[:,1],X_f_train[:,0],'r.')\n",
    "plt.plot(X_u_train[:,1],X_u_train[:,0],'b.')\n"
   ]
  },
  {
   "cell_type": "code",
   "execution_count": 183,
   "metadata": {},
   "outputs": [],
   "source": [
    "model = PhysicsInformedNN(X_u_train, u_train, X_f_train, layers, lb, ub, nu)"
   ]
  },
  {
   "cell_type": "code",
   "execution_count": 184,
   "metadata": {
    "scrolled": true
   },
   "outputs": [
    {
     "name": "stdout",
     "output_type": "stream",
     "text": [
      "Loss: 0.27582553\n",
      "Loss: 0.24268724\n",
      "Loss: 0.18849714\n",
      "Loss: 0.1736713\n",
      "Loss: 0.15431099\n",
      "Loss: 0.08123592\n",
      "Loss: 0.030861042\n",
      "Loss: 0.027701484\n",
      "Loss: 0.016673166\n",
      "Loss: 0.012583826\n",
      "Loss: 0.00842093\n",
      "Loss: 0.005209783\n",
      "Loss: 0.004121736\n",
      "Loss: 0.0035957661\n",
      "Loss: 0.0027550906\n",
      "Loss: 0.002569424\n",
      "Loss: 0.0023331179\n",
      "Loss: 0.0021154606\n",
      "Loss: 0.0018062989\n",
      "Loss: 0.0020409543\n",
      "Loss: 0.0014934995\n",
      "Loss: 0.002961483\n",
      "Loss: 0.0012378711\n",
      "Loss: 0.0011856332\n",
      "Loss: 0.001091966\n",
      "Loss: 0.0009416594\n",
      "Loss: 0.0006614979\n",
      "Loss: 0.00031173308\n",
      "Loss: 0.00015677518\n",
      "Loss: 9.94642e-05\n",
      "Loss: 8.037239e-05\n",
      "Loss: 7.275653e-05\n",
      "Loss: 7.0480666e-05\n",
      "Loss: 6.5800756e-05\n",
      "Loss: 4.533936e-05\n",
      "Loss: 2.8896786e-05\n",
      "Loss: 1.8695506e-05\n",
      "Loss: 1.3897734e-05\n",
      "Loss: 1.0683685e-05\n",
      "Loss: 9.678384e-06\n",
      "Loss: 8.598166e-06\n",
      "Loss: 8.440007e-06\n",
      "Loss: 8.142121e-06\n",
      "Loss: 7.0906344e-06\n",
      "Loss: 6.19801e-06\n",
      "Loss: 5.009151e-06\n",
      "Loss: 4.5564034e-06\n",
      "Loss: 4.3630607e-06\n",
      "Loss: 4.2674556e-06\n",
      "Loss: 4.155233e-06\n",
      "Loss: 3.937984e-06\n",
      "Loss: 3.4438851e-06\n",
      "Loss: 2.7845172e-06\n",
      "Loss: 1.0413083e-05\n",
      "Loss: 2.4097344e-06\n",
      "Loss: 1.9550662e-06\n",
      "Loss: 1.819345e-06\n",
      "Loss: 1.7305387e-06\n",
      "Loss: 1.7073054e-06\n",
      "Loss: 1.6503338e-06\n",
      "Loss: 1.617769e-06\n",
      "Loss: 1.60392e-06\n",
      "Loss: 1.5945009e-06\n",
      "Loss: 1.5542583e-06\n",
      "Loss: 1.4960061e-06\n",
      "Loss: 1.6106093e-06\n",
      "Loss: 1.4613688e-06\n",
      "Loss: 1.4443463e-06\n",
      "Loss: 1.4263217e-06\n",
      "Loss: 1.3125872e-06\n",
      "Loss: 1.221423e-06\n",
      "Loss: 3.739164e-06\n",
      "Loss: 1.1318205e-06\n",
      "Loss: 4.273927e-06\n",
      "Loss: 1.1090563e-06\n",
      "Loss: 1.0864039e-06\n",
      "Loss: 9.858658e-07\n",
      "Loss: 9.170035e-07\n",
      "Loss: 8.0872496e-07\n",
      "Loss: 0.03039818\n",
      "Loss: 8.081394e-07\n",
      "Loss: 8.0814067e-07\n",
      "Loss: 8.081394e-07\n",
      "Loss: 7.013064e-07\n",
      "Loss: 7.283811e-07\n",
      "Loss: 6.8954387e-07\n",
      "Loss: 6.733307e-07\n",
      "Loss: 6.042744e-07\n",
      "Loss: 5.8302135e-07\n",
      "Loss: 5.3365864e-07\n",
      "Loss: 5.102654e-07\n",
      "Loss: 4.8409703e-07\n",
      "Loss: 4.5180784e-07\n",
      "Loss: 4.3701104e-07\n",
      "Loss: 4.0921694e-07\n",
      "Loss: 3.7659137e-07\n",
      "Loss: 3.7243603e-07\n",
      "Loss: 3.694667e-07\n",
      "Loss: 3.616581e-07\n",
      "Loss: 3.5874777e-07\n",
      "Loss: 3.5490092e-07\n",
      "Loss: 3.460838e-07\n",
      "Loss: 3.4354633e-07\n",
      "Loss: 3.2921622e-07\n",
      "Loss: 2.9875574e-07\n",
      "Loss: 2.4976367e-07\n",
      "Loss: 1.8646338e-07\n",
      "Loss: 5.579807e-07\n",
      "Loss: 1.501561e-07\n",
      "Loss: 2.0501027e-07\n",
      "Loss: 1.3371493e-07\n",
      "Loss: 1.01590445e-07\n",
      "Loss: 9.2465804e-08\n",
      "Loss: 9.927742e-08\n",
      "Loss: 8.42987e-08\n",
      "Loss: 6.634741e-08\n",
      "Loss: 5.080641e-08\n",
      "Loss: 5.600803e-08\n",
      "Loss: 4.615721e-08\n",
      "Loss: 3.4059013e-08\n",
      "Loss: 2.9432034e-08\n",
      "Loss: 1.9673045e-08\n",
      "INFO:tensorflow:Optimization terminated with:\n",
      "  Message: b'CONVERGENCE: NORM_OF_PROJECTED_GRADIENT_<=_PGTOL'\n",
      "  Objective function value: 0.000000\n",
      "  Number of iterations: 103\n",
      "  Number of functions evaluations: 122\n",
      "Training time: 8.2513\n"
     ]
    }
   ],
   "source": [
    "start_time = time.time()                \n",
    "model.train()\n",
    "elapsed = time.time() - start_time\n",
    "print('Training time: %.4f' % (elapsed))"
   ]
  },
  {
   "cell_type": "code",
   "execution_count": 185,
   "metadata": {},
   "outputs": [
    {
     "name": "stdout",
     "output_type": "stream",
     "text": [
      "Error u: 1.899539e+00\n"
     ]
    }
   ],
   "source": [
    "u_pred, f_pred = model.predict(X_star)\n",
    "\n",
    "error_u = np.linalg.norm(u_star-u_pred,2)/np.linalg.norm(u_star,2)\n",
    "print('Error u: %e' % (error_u))                     "
   ]
  },
  {
   "cell_type": "code",
   "execution_count": 186,
   "metadata": {},
   "outputs": [],
   "source": [
    "U_pred = griddata(X_star, u_pred.flatten(), (X, T), method='cubic')\n",
    "F_pred = griddata(X_star, f_pred.flatten(), (X, T), method='cubic')\n",
    "Error = np.abs(Exact - U_pred)"
   ]
  },
  {
   "cell_type": "code",
   "execution_count": 187,
   "metadata": {},
   "outputs": [
    {
     "data": {
      "text/plain": [
       "Text(0.5,1,'F')"
      ]
     },
     "execution_count": 187,
     "metadata": {},
     "output_type": "execute_result"
    },
    {
     "data": {
      "image/png": "[encoded data removed]",
      "text/plain": [
       "<matplotlib.figure.Figure at 0x7f1b4f504668>"
      ]
     },
     "metadata": {},
     "output_type": "display_data"
    },
    {
     "data": {
      "image/png": "[encoded data removed]",
      "text/plain": [
       "<matplotlib.figure.Figure at 0x7f1b40a3dc88>"
      ]
     },
     "metadata": {},
     "output_type": "display_data"
    }
   ],
   "source": [
    "plt.figure(figsize=(8,4))\n",
    "plt.pcolor(T, X, U_pred,cmap='jet')\n",
    "plt.colorbar()\n",
    "plt.title('Model')\n",
    "\n",
    "\n",
    "plt.figure(figsize=(8,4))\n",
    "plt.pcolor(T, X, F_pred,cmap='jet', vmin=-.2,vmax=.2)\n",
    "plt.colorbar()\n",
    "plt.title('F')\n",
    "\n"
   ]
  },
  {
   "cell_type": "code",
   "execution_count": 188,
   "metadata": {},
   "outputs": [
    {
     "data": {
      "text/plain": [
       "<matplotlib.legend.Legend at 0x7f1b3fa97978>"
      ]
     },
     "execution_count": 188,
     "metadata": {},
     "output_type": "execute_result"
    },
    {
     "data": {
      "image/png": "[encoded data removed]",
      "text/plain": [
       "<matplotlib.figure.Figure at 0x7f1b4f5045c0>"
      ]
     },
     "metadata": {},
     "output_type": "display_data"
    }
   ],
   "source": [
    "plt.figure(figsize=(12,8))\n",
    "for tmp_i in range(0,t.shape[0],10):\n",
    "    tmp_t = t[tmp_i]\n",
    "    tmp_x_t = np.concatenate((x,np.full(x.shape,tmp_t)),1)\n",
    "    tmp_u_pred, _ = model.predict(tmp_x_t)\n",
    "    \n",
    "    plt.plot(tmp_u_pred,label='time {}'.format(tmp_t))\n",
    "    #plt.plot(Exact[tmp_i,:],':')\n",
    "plt.legend()\n",
    "    \n",
    "# plt.figure(figsize=(12,8))\n",
    "# for tmp_i in range(0,t.shape[0],10):\n",
    "#     tmp_t = t[tmp_i]\n",
    "#     tmp_u_pred = U_pred[tmp_i,:]\n",
    "#     plt.plot(tmp_u_pred-Exact[0,:],label='t=%f' % tmp_t)\n",
    "# plt.legend()\n"
   ]
  },
  {
   "cell_type": "code",
   "execution_count": 80,
   "metadata": {},
   "outputs": [],
   "source": [
    "X_star_new = np.concatenate([X_star,X_star,X_star])\n",
    "X_star_new[25600:,1]=X_star_new[25600:,1]+1\n",
    "X_star_new[51200:,1]=X_star_new[51200:,1]+1"
   ]
  },
  {
   "cell_type": "code",
   "execution_count": 81,
   "metadata": {},
   "outputs": [],
   "source": [
    "u_pred_new, f_pred_new = model.predict(X_star_new)\n",
    "U_pred_new = np.reshape(u_pred_new,(len(t)*3,len(x)))\n"
   ]
  },
  {
   "cell_type": "code",
   "execution_count": 82,
   "metadata": {},
   "outputs": [
    {
     "data": {
      "text/plain": [
       "<matplotlib.colorbar.Colorbar at 0x7f1b69837400>"
      ]
     },
     "execution_count": 82,
     "metadata": {},
     "output_type": "execute_result"
    },
    {
     "data": {
      "image/png": "[encoded data removed]",
      "text/plain": [
       "<matplotlib.figure.Figure at 0x7f1b6ddafc50>"
      ]
     },
     "metadata": {},
     "output_type": "display_data"
    }
   ],
   "source": [
    "plt.figure(figsize=(8,4))\n",
    "plt.pcolor(U_pred_new.T,cmap='jet', vmin=-1,vmax=1)\n",
    "plt.colorbar()"
   ]
  },
  {
   "cell_type": "code",
   "execution_count": null,
   "metadata": {},
   "outputs": [],
   "source": []
  }
 ],
 "metadata": {
  "kernelspec": {
   "display_name": "Python 3",
   "language": "python",
   "name": "python3"
  },
  "language_info": {
   "codemirror_mode": {
    "name": "ipython",
    "version": 3
   },
   "file_extension": ".py",
   "mimetype": "text/x-python",
   "name": "python",
   "nbconvert_exporter": "python",
   "pygments_lexer": "ipython3",
   "version": "3.6.4"
  }
 },
 "nbformat": 4,
 "nbformat_minor": 2
}
