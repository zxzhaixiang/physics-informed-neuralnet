{
 "cells": [
  {
   "cell_type": "code",
   "execution_count": 1,
   "metadata": {},
   "outputs": [],
   "source": [
    "import sys\n",
    "#sys.path.insert(0, '../Utilities/')\n",
    "\n",
    "import tensorflow as tf\n",
    "import numpy as np\n",
    "import matplotlib.pyplot as plt\n",
    "import scipy.io\n",
    "from scipy.interpolate import griddata\n",
    "import time\n",
    "from pyDOE import lhs\n",
    "\n",
    "\n",
    "np.random.seed(1234)\n",
    "tf.set_random_seed(1234)"
   ]
  },
  {
   "cell_type": "code",
   "execution_count": 2,
   "metadata": {},
   "outputs": [],
   "source": [
    "class PhysicsInformedNN:\n",
    "    # Initialize the class\n",
    "    def __init__(self, X_u, u, X_f, layers, lb, ub, nu):\n",
    "        #X_u, u: where to enforce value of u\n",
    "        #X_f: where to enforce physics\n",
    "        \n",
    "        self.lb = lb\n",
    "        self.ub = ub\n",
    "    \n",
    "        self.x_u = X_u[:,0:1]\n",
    "        self.t_u = X_u[:,1:2]\n",
    "        \n",
    "        self.x_f = X_f[:,0:1]\n",
    "        self.t_f = X_f[:,1:2]\n",
    "        \n",
    "        self.u = u\n",
    "        \n",
    "        self.layers = layers\n",
    "        self.nu = nu\n",
    "        \n",
    "        # Initialize NNs\n",
    "        self.weights, self.biases = self.initialize_NN(layers)\n",
    "        \n",
    "        # tf placeholders and graph\n",
    "        self.sess = tf.Session(config=tf.ConfigProto(allow_soft_placement=True,\n",
    "                                                     log_device_placement=True))\n",
    "        \n",
    "        self.x_u_tf = tf.placeholder(tf.float32, shape=[None, self.x_u.shape[1]])\n",
    "        self.t_u_tf = tf.placeholder(tf.float32, shape=[None, self.t_u.shape[1]])        \n",
    "        self.u_tf = tf.placeholder(tf.float32, shape=[None, self.u.shape[1]])\n",
    "        \n",
    "        self.x_f_tf = tf.placeholder(tf.float32, shape=[None, self.x_f.shape[1]])\n",
    "        self.t_f_tf = tf.placeholder(tf.float32, shape=[None, self.t_f.shape[1]])        \n",
    "\n",
    "        self.u_pred = self.net_u(self.x_u_tf, self.t_u_tf) \n",
    "        self.f_pred = self.net_f(self.x_f_tf, self.t_f_tf)         \n",
    "        \n",
    "        self.loss_u = tf.reduce_mean(tf.square(self.u_tf - self.u_pred))\n",
    "        self.loss_f = tf.reduce_mean(tf.square(self.f_pred))\n",
    "        self.loss = 1.*self.loss_u + 1.*self.loss_f               \n",
    "                \n",
    "        self.optimizer = tf.contrib.opt.ScipyOptimizerInterface(self.loss, \n",
    "                                                                method = 'L-BFGS-B', \n",
    "                                                                options = {'maxiter': 50000,\n",
    "                                                                           'maxfun': 50000,\n",
    "                                                                           'maxcor': 100,\n",
    "                                                                           'maxls': 100,\n",
    "                                                                           'ftol' : 1 * np.finfo(float).eps})\n",
    "        \n",
    "        init = tf.global_variables_initializer()\n",
    "        self.sess.run(init)\n",
    "\n",
    "    def initialize_NN(self, layers):        \n",
    "        weights = []\n",
    "        biases = []\n",
    "        num_layers = len(layers) \n",
    "        for l in range(0,num_layers-1):\n",
    "            W = self.xavier_init(size=[layers[l], layers[l+1]])\n",
    "            b = tf.Variable(tf.zeros([1,layers[l+1]], dtype=tf.float32), dtype=tf.float32)\n",
    "            weights.append(W)\n",
    "            biases.append(b)        \n",
    "        return weights, biases\n",
    "        \n",
    "    def xavier_init(self, size):\n",
    "        in_dim = size[0]\n",
    "        out_dim = size[1]        \n",
    "        xavier_stddev = np.sqrt(2/(in_dim + out_dim))\n",
    "        return tf.Variable(tf.truncated_normal([in_dim, out_dim], stddev=xavier_stddev), dtype=tf.float32)\n",
    "    \n",
    "    def neural_net(self, X, weights, biases):\n",
    "        num_layers = len(weights) + 1\n",
    "        \n",
    "        H = 2.0*(X - self.lb)/(self.ub - self.lb) - 1.0\n",
    "        for l in range(0,num_layers-2):\n",
    "            W = weights[l]\n",
    "            b = biases[l]\n",
    "            \n",
    "            #if (l%2==0):\n",
    "            #    H = tf.tanh(tf.add(tf.matmul(H, W), b))\n",
    "            #else:\n",
    "            #    H = tf.nn.leaky_relu(tf.add(tf.matmul(H, W), b))\n",
    "\n",
    "            H = tf.tanh(tf.add(tf.matmul(H, W), b))\n",
    "            \n",
    "        W = weights[-1]\n",
    "        b = biases[-1]\n",
    "        Y = tf.add(tf.matmul(H, W), b)\n",
    "        Y = tf.sigmoid(Y)\n",
    "        return Y\n",
    "            \n",
    "    def net_u(self, x, t):\n",
    "        u = self.neural_net(tf.concat([x,t],1), self.weights, self.biases)\n",
    "        return u\n",
    "    \n",
    "    def net_f(self, x,t):\n",
    "        u = self.net_u(x,t)\n",
    "        u_t = tf.gradients(u, t)[0]\n",
    "        u_x = tf.gradients(u, x)[0]\n",
    "        u_xx = tf.gradients(u_x, x)[0]\n",
    "        #f = u_t + u*u_x - self.nu*u_xx #burger problem\n",
    "        #f = u_t - 0.2*u_xx             #1D diffusion problem \n",
    "        #f = u_t - u_x                  #1D wave propagating left\n",
    "        #f = u_t - u_x - 0.01*u_xx       #1D wave propagation with diffusion\n",
    "        f = u_t + u_x                  #1D wave propagating right\n",
    "        #f = u_t - (0.1+u)*u_x - self.nu*u_xx   #1D burger problem with diffusion\n",
    "        return f\n",
    "    \n",
    "    def callback(self, loss):\n",
    "        print('Loss:', loss)\n",
    "        \n",
    "    def train(self):\n",
    "        \n",
    "        tf_dict = {self.x_u_tf: self.x_u, self.t_u_tf: self.t_u, self.u_tf: self.u,\n",
    "                   self.x_f_tf: self.x_f, self.t_f_tf: self.t_f}\n",
    "                                                                                                                          \n",
    "        self.optimizer.minimize(self.sess, \n",
    "                                feed_dict = tf_dict,         \n",
    "                                fetches = [self.loss], \n",
    "                                loss_callback = self.callback)        \n",
    "\n",
    "    def predict(self, X_star):\n",
    "                \n",
    "        u_star = self.sess.run(self.u_pred, {self.x_u_tf: X_star[:,0:1], self.t_u_tf: X_star[:,1:2]})  \n",
    "        f_star = self.sess.run(self.f_pred, {self.x_f_tf: X_star[:,0:1], self.t_f_tf: X_star[:,1:2]})\n",
    "               \n",
    "        return u_star, f_star"
   ]
  },
  {
   "cell_type": "markdown",
   "metadata": {},
   "source": [
    "## Training Neural Net with Initial & Boundary Condition and Physics Laws"
   ]
  },
  {
   "cell_type": "code",
   "execution_count": 3,
   "metadata": {},
   "outputs": [],
   "source": [
    "nu = 0.01/np.pi\n",
    "noise = 0.0        \n",
    "\n",
    "N_u = 50\n",
    "N_f = 200\n",
    "#layers = [2, 20, 20, 20, 20, 1]\n",
    "layers = [2, 20, 20, 20, 20, 20, 20, 20, 20, 20, 20, 1]\n",
    "#layers = [2, 4, 8, 16, 32, 64, 32, 16, 8, 4, 2, 1]\n",
    "\n",
    "data = scipy.io.loadmat('../appendix/Data/burgers_shock.mat')\n",
    "\n",
    "t = data['t'].flatten()[:,None]\n",
    "x = data['x'].flatten()[:,None]\n",
    "Exact = np.real(data['usol']).T\n",
    "\n",
    "X, T = np.meshgrid(x,t)\n",
    "\n",
    "X_star = np.hstack((X.flatten()[:,None], T.flatten()[:,None]))\n",
    "u_star = Exact.flatten()[:,None]              \n",
    "\n",
    "# Doman bounds\n",
    "lb = X_star.min(0)\n",
    "ub = X_star.max(0)    \n",
    "\n",
    "xx1 = np.hstack((X[0:1,:].T, T[0:1,:].T)) #initial condition t=0\n",
    "#uu1 = Exact[0:1,:].T\n",
    "#uu1 = np.exp(-100*xx1[:,0:1]*xx1[:,0:1])\n",
    "#uu1 = np.exp(-10*xx1[:,0:1]*xx1[:,0:1])*np.sin(xx1[:,0:1]*np.pi)\n",
    "#uu1 = np.heaviside(xx1[:,0:1]-0.4,0) # shock wave\n",
    "uu1 = np.zeros((xx1.shape[0],1)) #all zero\n",
    "\n",
    "xx2 = np.hstack((X[:,0:1], T[:,0:1])) #boundary condition at x = -1\n",
    "#uu2 = Exact[:,0:1]\n",
    "uu2 = np.ones((xx2.shape[0],1))\n",
    "\n",
    "xx3 = np.hstack((X[:,-1:], T[:,-1:])) #boundary condition at x = 1\n",
    "uu3 = np.zeros((xx2.shape[0],1))\n",
    "#uu3 = Exact[:,-1:]\n",
    "\n",
    "X_u_train = np.vstack([xx1, xx2, xx3])\n",
    "u_train = np.vstack([uu1, uu2, uu3])\n",
    "#X_u_train = np.vstack([xx1])\n",
    "#u_train = np.vstack([uu1])"
   ]
  },
  {
   "cell_type": "code",
   "execution_count": 4,
   "metadata": {},
   "outputs": [],
   "source": [
    "X_f_train = lb + (ub-lb)*lhs(2, N_f)\n",
    "X_f_train = np.vstack((X_f_train, X_u_train))\n"
   ]
  },
  {
   "cell_type": "code",
   "execution_count": 5,
   "metadata": {},
   "outputs": [],
   "source": [
    "# select partial region to reinforce physics.\n",
    "#X_f_train = np.array([X_f_train[i] for i in range(X_f_train.shape[0]) if ((X_f_train[i,1]<0.5) or (np.abs(X_f_train[i,0])<0.2))])\n",
    "#X_f_train = np.array([X_f_train[i] for i in range(X_f_train.shape[0]) if (X_f_train[i,1]<0.2) or ((X_f_train[i,1]>0.7) and (X_f_train[i,1]<0.9))])"
   ]
  },
  {
   "cell_type": "code",
   "execution_count": 6,
   "metadata": {},
   "outputs": [],
   "source": [
    "#idx = np.random.choice(X_u_train.shape[0], N_u, replace=False)\n",
    "#X_u_train = X_u_train[idx, :]\n",
    "#u_train = u_train[idx,:]"
   ]
  },
  {
   "cell_type": "code",
   "execution_count": 7,
   "metadata": {},
   "outputs": [
    {
     "data": {
      "text/plain": [
       "[<matplotlib.lines.Line2D at 0x123547562e8>]"
      ]
     },
     "execution_count": 7,
     "metadata": {},
     "output_type": "execute_result"
    },
    {
     "data": {
      "image/png": "[encoded data removed]",
      "text/plain": [
       "<matplotlib.figure.Figure at 0x12361db3860>"
      ]
     },
     "metadata": {},
     "output_type": "display_data"
    }
   ],
   "source": [
    "plt.figure(figsize=(12,8))\n",
    "plt.plot(X_f_train[:,1],X_f_train[:,0],'r.')\n",
    "plt.plot(X_u_train[:,1],X_u_train[:,0],'b.')\n"
   ]
  },
  {
   "cell_type": "code",
   "execution_count": 8,
   "metadata": {},
   "outputs": [
    {
     "name": "stderr",
     "output_type": "stream",
     "text": [
      "C:\\Users\\xiang.zhai\\AppData\\Local\\Continuum\\Miniconda2\\envs\\ML\\lib\\site-packages\\h5py\\__init__.py:36: FutureWarning: Conversion of the second argument of issubdtype from `float` to `np.floating` is deprecated. In future, it will be treated as `np.float64 == np.dtype(float).type`.\n",
      "  from ._conv import register_converters as _register_converters\n"
     ]
    }
   ],
   "source": [
    "model = PhysicsInformedNN(X_u_train, u_train, X_f_train, layers, lb, ub, nu)"
   ]
  },
  {
   "cell_type": "code",
   "execution_count": 9,
   "metadata": {
    "scrolled": true
   },
   "outputs": [
    {
     "name": "stdout",
     "output_type": "stream",
     "text": [
      "Loss: 0.2621025\n",
      "Loss: 0.16836607\n",
      "Loss: 0.16088094\n",
      "Loss: 0.15085311\n",
      "Loss: 0.14870386\n",
      "Loss: 0.3669735\n",
      "Loss: 0.14386697\n",
      "Loss: 0.1321934\n",
      "Loss: 0.097446285\n",
      "Loss: 0.46987823\n",
      "Loss: 0.06922052\n",
      "Loss: 0.05418512\n",
      "Loss: 0.030888174\n",
      "Loss: 0.024940826\n",
      "Loss: 0.020289129\n",
      "Loss: 0.0099114645\n",
      "Loss: 0.008440414\n",
      "Loss: 0.0065420475\n",
      "Loss: 0.005281797\n",
      "Loss: 0.0031434214\n",
      "Loss: 0.0053158267\n",
      "Loss: 0.001826987\n",
      "Loss: 0.0021093518\n",
      "Loss: 0.0016482249\n",
      "Loss: 0.001642902\n",
      "Loss: 0.0016156477\n",
      "Loss: 0.0015759043\n",
      "Loss: 0.0014543213\n",
      "Loss: 0.001430635\n",
      "Loss: 0.0014136741\n",
      "Loss: 0.0013954887\n",
      "Loss: 0.001335074\n",
      "Loss: 0.0012122099\n",
      "Loss: 0.001173069\n",
      "Loss: 0.0011341198\n",
      "Loss: 0.0011304396\n",
      "Loss: 0.0011256787\n",
      "Loss: 0.0011202348\n",
      "Loss: 0.0011117364\n",
      "Loss: 0.0011341765\n",
      "Loss: 0.0011089336\n",
      "Loss: 0.001105979\n",
      "Loss: 0.0011044502\n",
      "Loss: 0.0011036781\n",
      "Loss: 0.001103087\n",
      "Loss: 0.0011017505\n",
      "Loss: 0.0011008986\n",
      "Loss: 0.0011002392\n",
      "Loss: 0.0011001861\n",
      "Loss: 0.001103333\n",
      "Loss: 0.0010999697\n",
      "Loss: 0.0010997229\n",
      "Loss: 0.001099362\n",
      "Loss: 0.0010992419\n",
      "Loss: 0.0010991399\n",
      "Loss: 0.0010986154\n",
      "Loss: 0.0010996608\n",
      "Loss: 0.0010985512\n",
      "Loss: 0.0010983811\n",
      "Loss: 0.0010982492\n",
      "Loss: 0.0010980862\n",
      "Loss: 0.0010980449\n",
      "Loss: 0.0010979215\n",
      "Loss: 0.0010978136\n",
      "Loss: 0.0010986004\n",
      "Loss: 0.0010977524\n",
      "Loss: 0.0010976896\n",
      "Loss: 0.0010976056\n",
      "Loss: 0.0010975192\n",
      "Loss: 0.0010978219\n",
      "Loss: 0.0010974882\n",
      "Loss: 0.0010974555\n",
      "Loss: 0.0010973895\n",
      "Loss: 0.0010973231\n",
      "Loss: 0.0010972557\n",
      "Loss: 0.0010976221\n",
      "Loss: 0.00109719\n",
      "Loss: 0.001098969\n",
      "Loss: 0.0010971725\n",
      "Loss: 0.0010971588\n",
      "Loss: 0.0010971418\n",
      "Loss: 0.0010970766\n",
      "Loss: 0.0010970437\n",
      "Loss: 0.0010970738\n",
      "Loss: 0.0010969943\n",
      "Loss: 0.0010975308\n",
      "Loss: 0.0010969861\n",
      "Loss: 0.0010969756\n",
      "Loss: 0.0010969429\n",
      "Loss: 0.0010969102\n",
      "Loss: 0.0010970915\n",
      "Loss: 0.0010968985\n",
      "Loss: 0.0010968784\n",
      "Loss: 0.0010968508\n",
      "Loss: 0.0010968265\n",
      "Loss: 0.0010968131\n",
      "Loss: 0.0010967918\n",
      "Loss: 0.0010967689\n",
      "Loss: 0.0010967596\n",
      "Loss: 0.0010967463\n",
      "Loss: 0.0010967359\n",
      "Loss: 0.0010967193\n",
      "Loss: 0.0010966995\n",
      "Loss: 0.0010966925\n",
      "Loss: 0.0010966898\n",
      "Loss: 0.0010966936\n",
      "Loss: 0.0010966806\n",
      "Loss: 0.0010966725\n",
      "Loss: 0.0010966598\n",
      "Loss: 0.0010966536\n",
      "Loss: 0.0010966823\n",
      "Loss: 0.0010966416\n",
      "Loss: 0.0010966304\n",
      "Loss: 0.0010967536\n",
      "Loss: 0.0010966269\n",
      "Loss: 0.0010966661\n",
      "Loss: 0.0010966233\n",
      "Loss: 0.001096625\n",
      "Loss: 0.0010966194\n",
      "Loss: 0.0010966144\n",
      "Loss: 0.0010966066\n",
      "Loss: 0.0010966053\n",
      "Loss: 0.0010966036\n",
      "Loss: 0.0010966009\n",
      "Loss: 0.0010966006\n",
      "Loss: 0.0010965903\n",
      "Loss: 0.0010965838\n",
      "Loss: 0.0010965752\n",
      "Loss: 0.0010965915\n",
      "Loss: 0.0010965738\n",
      "Loss: 0.0010965728\n",
      "Loss: 0.0010965664\n",
      "Loss: 0.0010965603\n",
      "Loss: 0.0010965631\n",
      "Loss: 0.0010965553\n",
      "Loss: 0.0010973978\n",
      "Loss: 0.0010965532\n",
      "Loss: 0.0010965513\n",
      "Loss: 0.0010965498\n",
      "Loss: 0.0010965494\n",
      "Loss: 0.0010965454\n",
      "Loss: 0.0010965414\n",
      "Loss: 0.0010965331\n",
      "Loss: 0.0010965335\n",
      "Loss: 0.0010965322\n",
      "Loss: 0.0010968421\n",
      "Loss: 0.00109653\n",
      "Loss: 0.001096544\n",
      "Loss: 0.0010965301\n",
      "Loss: 0.0010965297\n",
      "Loss: 0.001096529\n",
      "Loss: 0.0010965284\n",
      "Loss: 0.0010965234\n",
      "Loss: 0.0010965253\n",
      "Loss: 0.0010965214\n",
      "Loss: 0.0010965207\n",
      "Loss: 0.0011125467\n",
      "Loss: 0.0010965627\n",
      "Loss: 0.0010965207\n",
      "Loss: 0.0010965206\n",
      "Loss: 0.0010965207\n",
      "Loss: 0.0010965207\n",
      "Loss: 0.0010965206\n",
      "Loss: 0.001165906\n",
      "Loss: 0.0010966505\n",
      "Loss: 0.0010965208\n",
      "Loss: 0.0010965202\n",
      "Loss: 0.0010965228\n",
      "Loss: 0.001096519\n",
      "Loss: 0.0010965199\n",
      "Loss: 0.0010965199\n",
      "Loss: 0.0010965191\n",
      "Loss: 0.001096519\n",
      "Loss: 0.0010965182\n",
      "Loss: 0.0021916826\n",
      "Loss: 0.0010966806\n",
      "Loss: 0.0010965185\n",
      "Loss: 0.0010965182\n",
      "Loss: 0.0010965182\n",
      "Loss: 0.0010965182\n",
      "Loss: 0.0010965182\n",
      "Loss: 0.0010965182\n",
      "Loss: 0.0010965182\n",
      "Loss: 0.0010965182\n",
      "Loss: 0.0010965182\n",
      "Loss: 0.0010965182\n",
      "Loss: 0.0010965182\n",
      "Loss: 0.0010965182\n",
      "Loss: 0.0010965182\n",
      "Loss: 0.0010965182\n",
      "INFO:tensorflow:Optimization terminated with:\n",
      "  Message: b'CONVERGENCE: REL_REDUCTION_OF_F_<=_FACTR*EPSMCH'\n",
      "  Objective function value: 0.001097\n",
      "  Number of iterations: 119\n",
      "  Number of functions evaluations: 190\n",
      "Training time: 1.8457\n"
     ]
    }
   ],
   "source": [
    "start_time = time.time()                \n",
    "model.train()\n",
    "elapsed = time.time() - start_time\n",
    "print('Training time: %.4f' % (elapsed))"
   ]
  },
  {
   "cell_type": "code",
   "execution_count": 10,
   "metadata": {},
   "outputs": [
    {
     "name": "stdout",
     "output_type": "stream",
     "text": [
      "Error u: 1.113379e+00\n"
     ]
    }
   ],
   "source": [
    "u_pred, f_pred = model.predict(X_star)\n",
    "\n",
    "error_u = np.linalg.norm(u_star-u_pred,2)/np.linalg.norm(u_star,2)\n",
    "print('Error u: %e' % (error_u))                     "
   ]
  },
  {
   "cell_type": "code",
   "execution_count": 11,
   "metadata": {},
   "outputs": [],
   "source": [
    "U_pred = griddata(X_star, u_pred.flatten(), (X, T), method='cubic')\n",
    "F_pred = griddata(X_star, f_pred.flatten(), (X, T), method='cubic')\n",
    "Error = np.abs(Exact - U_pred)"
   ]
  },
  {
   "cell_type": "code",
   "execution_count": 12,
   "metadata": {},
   "outputs": [
    {
     "data": {
      "text/plain": [
       "<matplotlib.text.Text at 0x1236cf92fd0>"
      ]
     },
     "execution_count": 12,
     "metadata": {},
     "output_type": "execute_result"
    },
    {
     "data": {
      "image/png": "[encoded data removed]",
      "text/plain": [
       "<matplotlib.figure.Figure at 0x12368757cf8>"
      ]
     },
     "metadata": {},
     "output_type": "display_data"
    },
    {
     "data": {
      "image/png": "[encoded data removed]",
      "text/plain": [
       "<matplotlib.figure.Figure at 0x1236cf630b8>"
      ]
     },
     "metadata": {},
     "output_type": "display_data"
    }
   ],
   "source": [
    "plt.figure(figsize=(8,4))\n",
    "plt.pcolor(T, X, U_pred,cmap='jet')\n",
    "plt.colorbar()\n",
    "plt.title('Model')\n",
    "\n",
    "\n",
    "plt.figure(figsize=(8,4))\n",
    "plt.pcolor(T, X, F_pred,cmap='jet', vmin=-.2,vmax=.2)\n",
    "plt.colorbar()\n",
    "plt.title('F')\n",
    "\n"
   ]
  },
  {
   "cell_type": "code",
   "execution_count": 23,
   "metadata": {},
   "outputs": [
    {
     "data": {
      "text/plain": [
       "<matplotlib.legend.Legend at 0x12370d89c50>"
      ]
     },
     "execution_count": 23,
     "metadata": {},
     "output_type": "execute_result"
    },
    {
     "data": {
      "image/png": "[encoded data removed]",
      "text/plain": [
       "<matplotlib.figure.Figure at 0x12370d91c50>"
      ]
     },
     "metadata": {},
     "output_type": "display_data"
    }
   ],
   "source": [
    "x = np.linspace(-1,1,1000).reshape(1000,1)\n",
    "plt.figure(figsize=(18,8))\n",
    "for tmp_i in range(0,t.shape[0],10):\n",
    "    tmp_t = t[tmp_i]\n",
    "    tmp_x_t = np.concatenate((x,np.full(x.shape,tmp_t)),1)\n",
    "    tmp_u_pred, _ = model.predict(tmp_x_t)\n",
    "    \n",
    "    plt.plot(x,tmp_u_pred,label='time {}'.format(tmp_t))\n",
    "    #plt.plot(Exact[tmp_i,:],':')\n",
    "plt.legend()\n",
    "    \n",
    "# plt.figure(figsize=(12,8))\n",
    "# for tmp_i in range(0,t.shape[0],10):\n",
    "#     tmp_t = t[tmp_i]\n",
    "#     tmp_u_pred = U_pred[tmp_i,:]\n",
    "#     plt.plot(tmp_u_pred-Exact[0,:],label='t=%f' % tmp_t)\n",
    "# plt.legend()\n"
   ]
  },
  {
   "cell_type": "code",
   "execution_count": 14,
   "metadata": {},
   "outputs": [],
   "source": [
    "X_star_new = np.concatenate([X_star,X_star,X_star])\n",
    "X_star_new[25600:,1]=X_star_new[25600:,1]+1\n",
    "X_star_new[51200:,1]=X_star_new[51200:,1]+1"
   ]
  },
  {
   "cell_type": "code",
   "execution_count": 15,
   "metadata": {},
   "outputs": [],
   "source": [
    "u_pred_new, f_pred_new = model.predict(X_star_new)\n",
    "U_pred_new = np.reshape(u_pred_new,(len(t)*3,len(x)))\n"
   ]
  },
  {
   "cell_type": "code",
   "execution_count": 16,
   "metadata": {},
   "outputs": [
    {
     "data": {
      "text/plain": [
       "<matplotlib.colorbar.Colorbar at 0x1236eb032e8>"
      ]
     },
     "execution_count": 16,
     "metadata": {},
     "output_type": "execute_result"
    },
    {
     "data": {
      "image/png": "[encoded data removed]",
      "text/plain": [
       "<matplotlib.figure.Figure at 0x12361d6fc88>"
      ]
     },
     "metadata": {},
     "output_type": "display_data"
    }
   ],
   "source": [
    "plt.figure(figsize=(8,4))\n",
    "plt.pcolor(U_pred_new.T,cmap='jet', vmin=-1,vmax=1)\n",
    "plt.colorbar()"
   ]
  },
  {
   "cell_type": "code",
   "execution_count": null,
   "metadata": {},
   "outputs": [],
   "source": []
  }
 ],
 "metadata": {
  "kernelspec": {
   "display_name": "Python 2",
   "language": "python",
   "name": "python2"
  },
  "language_info": {
   "codemirror_mode": {
    "name": "ipython",
    "version": 2
   },
   "file_extension": ".py",
   "mimetype": "text/x-python",
   "name": "python",
   "nbconvert_exporter": "python",
   "pygments_lexer": "ipython2",
   "version": "2.7.14"
  }
 },
 "nbformat": 4,
 "nbformat_minor": 2
}
