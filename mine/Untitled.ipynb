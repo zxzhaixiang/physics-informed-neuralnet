{
 "cells": [
  {
   "cell_type": "code",
   "execution_count": 22,
   "metadata": {},
   "outputs": [],
   "source": [
    "import matplotlib.pyplot as plt\n",
    "import numpy as np"
   ]
  },
  {
   "cell_type": "code",
   "execution_count": 73,
   "metadata": {},
   "outputs": [],
   "source": [
    "BFGS_Loss = []\n",
    "Adam_Loss = []\n",
    "isAdam = True"
   ]
  },
  {
   "cell_type": "code",
   "execution_count": 74,
   "metadata": {},
   "outputs": [],
   "source": [
    "with open('loss_curve.txt','rb') as f:\n",
    "    seg_BFGS_Loss = []\n",
    "    seg_Adam_Loss = []\n",
    "    for lines in f:\n",
    "        Loss_loc = lines.find(b', Loss:')+7\n",
    "        next_comma_loc = lines[Loss_loc:].find(b',')+Loss_loc\n",
    "        tmp_loss = float(lines[Loss_loc:next_comma_loc])\n",
    "        if lines[:3]==b'It:':#adam loss\n",
    "            if not isAdam:#switching from BFGC to adam\n",
    "                BFGS_Loss.append(seg_BFGS_Loss)\n",
    "                seg_BFGS_Loss = []\n",
    "                seg_Adam_Loss = []\n",
    "            seg_Adam_Loss.append(tmp_loss)\n",
    "            isAdam = True\n",
    "        else: #BFGS loss\n",
    "            if isAdam:#switching from adam to BFGS\n",
    "                Adam_Loss.append(seg_Adam_Loss)\n",
    "                seg_BFGS_Loss = []\n",
    "                seg_Adam_Loss = []\n",
    "            seg_BFGS_Loss.append(tmp_loss)\n",
    "            isAdam = False\n",
    "    BFGS_Loss.append(seg_BFGS_Loss)\n"
   ]
  },
  {
   "cell_type": "code",
   "execution_count": 81,
   "metadata": {},
   "outputs": [
    {
     "data": {
      "image/png": "[encoded data removed]",
      "text/plain": [
       "<matplotlib.figure.Figure at 0x1e40d11d588>"
      ]
     },
     "metadata": {},
     "output_type": "display_data"
    }
   ],
   "source": [
    "fig = plt.figure(figsize=(12,6))\n",
    "ax = fig.add_subplot(111)\n",
    "\n",
    "Iter = 0\n",
    "for i, AL in enumerate(Adam_Loss):\n",
    "    iend = 10*len(AL)+Iter\n",
    "    plt.plot(np.arange(Iter,iend,10),AL,'r-')\n",
    "    \n",
    "    BL = BFGS_Loss[i]\n",
    "    \n",
    "    Iter = iend\n",
    "    iend = 100*len(BL)+Iter\n",
    "    plt.plot(np.arange(Iter,iend,100),BL,'b-')\n",
    "\n",
    "    Iter = iend\n",
    "\n",
    "ax.set_yscale('log')\n"
   ]
  },
  {
   "cell_type": "code",
   "execution_count": 11,
   "metadata": {},
   "outputs": [
    {
     "data": {
      "text/plain": [
       "12"
      ]
     },
     "execution_count": 11,
     "metadata": {},
     "output_type": "execute_result"
    }
   ],
   "source": [
    "Loss_loc"
   ]
  },
  {
   "cell_type": "code",
   "execution_count": 12,
   "metadata": {},
   "outputs": [
    {
     "data": {
      "text/plain": [
       "22"
      ]
     },
     "execution_count": 12,
     "metadata": {},
     "output_type": "execute_result"
    }
   ],
   "source": [
    "next_comma_loc"
   ]
  },
  {
   "cell_type": "code",
   "execution_count": 16,
   "metadata": {},
   "outputs": [
    {
     "data": {
      "text/plain": [
       "3.728"
      ]
     },
     "execution_count": 16,
     "metadata": {},
     "output_type": "execute_result"
    }
   ],
   "source": [
    "float(lines[Loss_loc:next_comma_loc])"
   ]
  },
  {
   "cell_type": "code",
   "execution_count": 31,
   "metadata": {},
   "outputs": [
    {
     "data": {
      "text/plain": [
       "True"
      ]
     },
     "execution_count": 31,
     "metadata": {},
     "output_type": "execute_result"
    }
   ],
   "source": [
    "lines[:3]==b'Ite'"
   ]
  },
  {
   "cell_type": "code",
   "execution_count": 55,
   "metadata": {},
   "outputs": [
    {
     "data": {
      "text/plain": [
       "True"
      ]
     },
     "execution_count": 55,
     "metadata": {},
     "output_type": "execute_result"
    }
   ],
   "source": [
    "not isAdam"
   ]
  },
  {
   "cell_type": "code",
   "execution_count": null,
   "metadata": {},
   "outputs": [],
   "source": []
  }
 ],
 "metadata": {
  "kernelspec": {
   "display_name": "Python 3",
   "language": "python",
   "name": "python3"
  },
  "language_info": {
   "codemirror_mode": {
    "name": "ipython",
    "version": 3
   },
   "file_extension": ".py",
   "mimetype": "text/x-python",
   "name": "python",
   "nbconvert_exporter": "python",
   "pygments_lexer": "ipython3",
   "version": "3.6.4"
  }
 },
 "nbformat": 4,
 "nbformat_minor": 2
}
